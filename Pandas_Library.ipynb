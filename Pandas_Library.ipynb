{
 "cells": [
  {
   "cell_type": "markdown",
   "id": "65aaae51",
   "metadata": {},
   "source": [
    "# 1. What is Pandas, and how do you install it?\n",
    "Answer:"
   ]
  },
  {
   "cell_type": "code",
   "execution_count": 1,
   "id": "ad1e011f",
   "metadata": {},
   "outputs": [],
   "source": [
    "# Pandas is an open-source data analysis and manipulation library for Python. \n",
    "# It provides data structures and functions needed to work with structured data seamlessly.\n",
    "\n",
    "# pip install pandas"
   ]
  },
  {
   "cell_type": "markdown",
   "id": "a93502d9",
   "metadata": {},
   "source": [
    "# 2. How do you create a DataFrame in Pandas?\n",
    "Answer:"
   ]
  },
  {
   "cell_type": "code",
   "execution_count": 1,
   "id": "d3aa1efc",
   "metadata": {},
   "outputs": [
    {
     "name": "stdout",
     "output_type": "stream",
     "text": [
      "    Name  Age  Gender\n",
      "0   shiv   28    Male\n",
      "1    ram   24    Male\n",
      "2  gauri   35  Female\n",
      "3   sita   33  Female\n"
     ]
    }
   ],
   "source": [
    "# We can create a DataFrame from various data structures like dictionaries, lists, or CSV files.\n",
    "\n",
    "# From a dictionary:\n",
    "import pandas as pd\n",
    "\n",
    "data = {\n",
    "    'Name': ['shiv', 'ram', 'gauri', 'sita'],\n",
    "    'Age': [28, 24, 35, 33],\n",
    "    'Gender':['Male','Male','Female','Female']\n",
    "}\n",
    "\n",
    "df = pd.DataFrame(data)\n",
    "print(df)\n"
   ]
  },
  {
   "cell_type": "code",
   "execution_count": 2,
   "id": "f623086e",
   "metadata": {},
   "outputs": [],
   "source": [
    "# df = pd.read_csv(\"\")\n",
    "# print(df)"
   ]
  },
  {
   "cell_type": "markdown",
   "id": "3a4add71",
   "metadata": {},
   "source": [
    "# 3. How do you manipulate and access data in a DataFrame?\n",
    "Answer:"
   ]
  },
  {
   "cell_type": "code",
   "execution_count": 8,
   "id": "6bd27c54",
   "metadata": {},
   "outputs": [
    {
     "name": "stdout",
     "output_type": "stream",
     "text": [
      "0     shiv\n",
      "1      ram\n",
      "2    gauri\n",
      "3     sita\n",
      "Name: Name, dtype: object\n"
     ]
    }
   ],
   "source": [
    "# Use indexing and slicing to access specific rows and columns.\n",
    "\n",
    "# Using column names:\n",
    "print(df['Name'])"
   ]
  },
  {
   "cell_type": "code",
   "execution_count": 9,
   "id": "9984b473",
   "metadata": {},
   "outputs": [
    {
     "name": "stdout",
     "output_type": "stream",
     "text": [
      "shiv\n"
     ]
    }
   ],
   "source": [
    "# Using .loc[] for label-based indexing:\n",
    "print(df.loc[0, 'Name'])"
   ]
  },
  {
   "cell_type": "code",
   "execution_count": 12,
   "id": "df55b83d",
   "metadata": {},
   "outputs": [
    {
     "name": "stdout",
     "output_type": "stream",
     "text": [
      "33\n"
     ]
    }
   ],
   "source": [
    "# Using .iloc[] for integer-based indexing:\n",
    "print(df.iloc[3, 1])"
   ]
  },
  {
   "cell_type": "markdown",
   "id": "6f8928c2",
   "metadata": {},
   "source": [
    "# 4. How do you handle missing data in Pandas?\n",
    "Answer:"
   ]
  },
  {
   "cell_type": "code",
   "execution_count": 15,
   "id": "b0f8b5f6",
   "metadata": {},
   "outputs": [
    {
     "name": "stdout",
     "output_type": "stream",
     "text": [
      "    Name    Age  Gender\n",
      "0  False  False   False\n",
      "1  False  False   False\n",
      "2  False  False   False\n",
      "3  False  False   False\n"
     ]
    }
   ],
   "source": [
    "# Identify missing data using:\n",
    "print(df.isnull())"
   ]
  },
  {
   "cell_type": "code",
   "execution_count": 16,
   "id": "e88e3753",
   "metadata": {},
   "outputs": [],
   "source": [
    "# Handle missing data using:\n",
    "\n",
    "# Drop missing values:\n",
    "df_cleaned = df.dropna()"
   ]
  },
  {
   "cell_type": "code",
   "execution_count": 17,
   "id": "dc5cec76",
   "metadata": {},
   "outputs": [],
   "source": [
    "# Fill missing values:\n",
    "df_filled = df.fillna(0)"
   ]
  },
  {
   "cell_type": "markdown",
   "id": "9f8e33df",
   "metadata": {},
   "source": [
    "# 5. How do you perform data cleaning and preprocessing in Pandas?\n",
    "Answer:"
   ]
  },
  {
   "cell_type": "code",
   "execution_count": 18,
   "id": "8b55c276",
   "metadata": {},
   "outputs": [],
   "source": [
    "# Use various functions for data cleaning and preprocessing.\n",
    "\n",
    "# Apply a function to each element:\n",
    "df['Age'] = df['Age'].apply(lambda x: x + 1)"
   ]
  },
  {
   "cell_type": "code",
   "execution_count": 19,
   "id": "632d128f",
   "metadata": {},
   "outputs": [
    {
     "name": "stdout",
     "output_type": "stream",
     "text": [
      "    Name  Age  Gender\n",
      "0   shiv   29    Male\n",
      "1    ram   25    Male\n",
      "2  gauri   36  Female\n",
      "3   sita   34  Female\n"
     ]
    }
   ],
   "source": [
    "print(df)"
   ]
  },
  {
   "cell_type": "code",
   "execution_count": 20,
   "id": "0803f25a",
   "metadata": {},
   "outputs": [],
   "source": [
    "# Map values:\n",
    "df['Gender'] = df['Gender'].map({'Male': 0, 'Female': 1})"
   ]
  },
  {
   "cell_type": "code",
   "execution_count": 21,
   "id": "cc32954d",
   "metadata": {},
   "outputs": [],
   "source": [
    "# Change data type:\n",
    "df['Age'] = df['Age'].astype(float)"
   ]
  },
  {
   "cell_type": "code",
   "execution_count": 24,
   "id": "241aeace",
   "metadata": {},
   "outputs": [
    {
     "data": {
      "text/html": [
       "<div>\n",
       "<style scoped>\n",
       "    .dataframe tbody tr th:only-of-type {\n",
       "        vertical-align: middle;\n",
       "    }\n",
       "\n",
       "    .dataframe tbody tr th {\n",
       "        vertical-align: top;\n",
       "    }\n",
       "\n",
       "    .dataframe thead th {\n",
       "        text-align: right;\n",
       "    }\n",
       "</style>\n",
       "<table border=\"1\" class=\"dataframe\">\n",
       "  <thead>\n",
       "    <tr style=\"text-align: right;\">\n",
       "      <th></th>\n",
       "      <th>Name</th>\n",
       "      <th>Age</th>\n",
       "      <th>Gender</th>\n",
       "    </tr>\n",
       "  </thead>\n",
       "  <tbody>\n",
       "    <tr>\n",
       "      <th>0</th>\n",
       "      <td>shiv</td>\n",
       "      <td>29.0</td>\n",
       "      <td>0</td>\n",
       "    </tr>\n",
       "    <tr>\n",
       "      <th>1</th>\n",
       "      <td>ram</td>\n",
       "      <td>25.0</td>\n",
       "      <td>0</td>\n",
       "    </tr>\n",
       "    <tr>\n",
       "      <th>2</th>\n",
       "      <td>gauri</td>\n",
       "      <td>36.0</td>\n",
       "      <td>1</td>\n",
       "    </tr>\n",
       "  </tbody>\n",
       "</table>\n",
       "</div>"
      ],
      "text/plain": [
       "    Name   Age  Gender\n",
       "0   shiv  29.0       0\n",
       "1    ram  25.0       0\n",
       "2  gauri  36.0       1"
      ]
     },
     "execution_count": 24,
     "metadata": {},
     "output_type": "execute_result"
    }
   ],
   "source": [
    "df.head(3)"
   ]
  },
  {
   "cell_type": "markdown",
   "id": "6d3b8673",
   "metadata": {},
   "source": [
    "# 6. How do you merge, join, and concatenate DataFrames?\n",
    "Answer:"
   ]
  },
  {
   "cell_type": "code",
   "execution_count": 14,
   "id": "5e8cef48",
   "metadata": {},
   "outputs": [
    {
     "name": "stdout",
     "output_type": "stream",
     "text": [
      "    Name  Age\n",
      "0   shiv   23\n",
      "1    ram   33\n",
      "2   sita   20\n",
      "3  gauri   31\n"
     ]
    }
   ],
   "source": [
    "import pandas as pd\n",
    "\n",
    "# Creating two DataFrames\n",
    "df1 = pd.DataFrame({'Name': ['shiv', 'ram', 'sita', 'gauri']})\n",
    "df2 = pd.DataFrame({'Age': [23, 33, 20, 31]})\n",
    "\n",
    "# Adding a common key column to both DataFrames to merge them on\n",
    "df1['Key'] = [1, 2, 3, 4]\n",
    "df2['Key'] = [1, 2, 3, 4]\n",
    "\n",
    "# Merging the DataFrames on the 'Key' column\n",
    "merged_df = pd.merge(df1, df2, on='Key')\n",
    "\n",
    "# Dropping the 'Key' column after merging\n",
    "merged_df.drop('Key', axis=1, inplace=True)\n",
    "\n",
    "# Display the merged DataFrame\n",
    "print(merged_df)\n"
   ]
  },
  {
   "cell_type": "code",
   "execution_count": 15,
   "id": "03e6cdcc",
   "metadata": {},
   "outputs": [],
   "source": [
    "# Merge DataFrames:\n",
    "# df_merged = pd.merge(df1, df2, on='key')\n",
    "\n",
    "# Join DataFrames:\n",
    "# df_joined = df1.join(df2, on='key')\n",
    "\n",
    "# Concatenate DataFrames:\n",
    "# df_concat = pd.concat([df1, df2])"
   ]
  },
  {
   "cell_type": "markdown",
   "id": "4cc4f090",
   "metadata": {},
   "source": [
    "# 7. How do you perform group operations and aggregations in Pandas?\n",
    "Answer:"
   ]
  },
  {
   "cell_type": "code",
   "execution_count": 16,
   "id": "667b530e",
   "metadata": {},
   "outputs": [],
   "source": [
    "# Group data using .groupby():\n",
    "# grouped = df.groupby('Category')\n",
    "\n",
    "# Perform aggregations:\n",
    "# grouped_sum = grouped['Value'].sum()\n",
    "# grouped_mean = grouped['Value'].mean()"
   ]
  },
  {
   "cell_type": "code",
   "execution_count": 17,
   "id": "fda02aac",
   "metadata": {},
   "outputs": [
    {
     "name": "stdout",
     "output_type": "stream",
     "text": [
      "Sum of Values by Category:\n",
      "Category\n",
      "A    160\n",
      "B    200\n",
      "Name: Value, dtype: int64\n",
      "\n",
      "Mean of Values by Category:\n",
      "Category\n",
      "A    40.0\n",
      "B    50.0\n",
      "Name: Value, dtype: float64\n"
     ]
    }
   ],
   "source": [
    "import pandas as pd\n",
    "\n",
    "# Creating a sample DataFrame\n",
    "data = {\n",
    "    'Category': ['A', 'B', 'A', 'B', 'A', 'B', 'A', 'B'],\n",
    "    'Value': [10, 20, 30, 40, 50, 60, 70, 80]\n",
    "}\n",
    "\n",
    "df = pd.DataFrame(data)\n",
    "\n",
    "# Grouping the data by 'Category'\n",
    "grouped = df.groupby('Category')\n",
    "\n",
    "# Performing aggregations\n",
    "grouped_sum = grouped['Value'].sum()\n",
    "grouped_mean = grouped['Value'].mean()\n",
    "\n",
    "# Display the results\n",
    "print(\"Sum of Values by Category:\")\n",
    "print(grouped_sum)\n",
    "print(\"\\nMean of Values by Category:\")\n",
    "print(grouped_mean)\n"
   ]
  },
  {
   "cell_type": "markdown",
   "id": "2d786625",
   "metadata": {},
   "source": [
    "# 8. How do you sort and filter data in a DataFrame?\n",
    "Answer:"
   ]
  },
  {
   "cell_type": "code",
   "execution_count": 18,
   "id": "edd8c5ad",
   "metadata": {},
   "outputs": [],
   "source": [
    "# # Sort data:\n",
    "# df_sorted = df.sort_values(by='Age')\n",
    "\n",
    "# # Filter data:\n",
    "# df_filtered = df[df['Age'] > 30]"
   ]
  },
  {
   "cell_type": "code",
   "execution_count": 19,
   "id": "b6deb830",
   "metadata": {},
   "outputs": [
    {
     "name": "stdout",
     "output_type": "stream",
     "text": [
      "Original DataFrame:\n",
      "      Name  Age\n",
      "0     shiv   23\n",
      "1      ram   33\n",
      "2     sita   20\n",
      "3    gauri   31\n",
      "4  krishan   30\n",
      "\n",
      "Sorted DataFrame by Age:\n",
      "      Name  Age\n",
      "2     sita   20\n",
      "0     shiv   23\n",
      "4  krishan   30\n",
      "3    gauri   31\n",
      "1      ram   33\n",
      "\n",
      "Filtered DataFrame (Age > 30):\n",
      "    Name  Age\n",
      "1    ram   33\n",
      "3  gauri   31\n"
     ]
    }
   ],
   "source": [
    "import pandas as pd\n",
    "\n",
    "# Sample DataFrame\n",
    "data = {\n",
    "    'Name': ['shiv', 'ram', 'sita', 'gauri','krishan'],\n",
    "    'Age': [23, 33, 20, 31, 30]\n",
    "}\n",
    "\n",
    "df = pd.DataFrame(data)\n",
    "print(\"Original DataFrame:\")\n",
    "print(df)\n",
    "\n",
    "\n",
    "# Sort the DataFrame by 'Age'\n",
    "df_sorted = df.sort_values(by='Age')\n",
    "\n",
    "print(\"\\nSorted DataFrame by Age:\")\n",
    "print(df_sorted)\n",
    "\n",
    "\n",
    "# Filter the DataFrame to include only rows where 'Age' > 30\n",
    "df_filtered = df[df['Age'] > 30]\n",
    "\n",
    "print(\"\\nFiltered DataFrame (Age > 30):\")\n",
    "print(df_filtered)\n"
   ]
  },
  {
   "cell_type": "markdown",
   "id": "8991e06a",
   "metadata": {},
   "source": [
    "# 9. How do you visualize data in Pandas?\n",
    "Answer:"
   ]
  },
  {
   "cell_type": "code",
   "execution_count": 20,
   "id": "d250396c",
   "metadata": {},
   "outputs": [
    {
     "data": {
      "image/png": "[encoded data removed]",
      "text/plain": [
       "<Figure size 640x480 with 1 Axes>"
      ]
     },
     "metadata": {},
     "output_type": "display_data"
    }
   ],
   "source": [
    "# Create basic plots:\n",
    "# df['Age'].plot(kind='hist')\n",
    "\n",
    "\n",
    "# 'line': Line plot\n",
    "# 'bar': Vertical bar plot\n",
    "# 'barh': Horizontal bar plot\n",
    "# 'pie': Pie chart\n",
    "# 'scatter': Scatter plot\n",
    "# 'box': Box plot\n",
    "# 'kde': Kernel Density Estimate plot\n",
    "# 'area': Area plot\n",
    "# 'hexbin': Hexbin plot (for bivariate data)\n",
    "\n",
    "\n",
    "# Integrate with Matplotlib for advanced visualizations:\n",
    "import matplotlib.pyplot as plt\n",
    "\n",
    "df['Age'].plot(kind='line')\n",
    "plt.show()"
   ]
  },
  {
   "cell_type": "markdown",
   "id": "fa5abd0a",
   "metadata": {},
   "source": [
    "# 10. How do you export data from a DataFrame?\n",
    "Answer: "
   ]
  },
  {
   "cell_type": "code",
   "execution_count": 21,
   "id": "da17895b",
   "metadata": {},
   "outputs": [
    {
     "data": {
      "text/plain": [
       "5"
      ]
     },
     "execution_count": 21,
     "metadata": {},
     "output_type": "execute_result"
    }
   ],
   "source": [
    "# Export data to different formats.\n",
    "\n",
    "# To CSV:\n",
    "df1.to_csv('output.txt', index=False)\n",
    "\n",
    "# To Excel:\n",
    "# df1.to_excel('output.xlsx', index=False)\n",
    "\n",
    "# To SQL:\n",
    "from sqlalchemy import create_engine\n",
    "\n",
    "engine = create_engine('sqlite:///:memory:')\n",
    "df.to_sql('table_name', engine)\n"
   ]
  },
  {
   "cell_type": "code",
   "execution_count": null,
   "id": "e8831c2d",
   "metadata": {},
   "outputs": [],
   "source": []
  }
 ],
 "metadata": {
  "kernelspec": {
   "display_name": "Python 3 (ipykernel)",
   "language": "python",
   "name": "python3"
  },
  "language_info": {
   "codemirror_mode": {
    "name": "ipython",
    "version": 3
   },
   "file_extension": ".py",
   "mimetype": "text/x-python",
   "name": "python",
   "nbconvert_exporter": "python",
   "pygments_lexer": "ipython3",
   "version": "3.11.5"
  }
 },
 "nbformat": 4,
 "nbformat_minor": 5
}
